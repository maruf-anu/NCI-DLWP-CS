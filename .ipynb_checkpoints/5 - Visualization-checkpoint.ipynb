{
 "cells": [
  {
   "cell_type": "markdown",
   "id": "3c47c0e8-0a26-4012-a379-a75c22220f67",
   "metadata": {},
   "source": [
    "# DLWP-CS Prediction Visualization"
   ]
  },
  {
   "cell_type": "code",
   "execution_count": 4,
   "id": "6b5ce967-5d91-4e30-ad5e-45aa5b23a4d2",
   "metadata": {},
   "outputs": [],
   "source": [
    "import ipywidgets as widgets\n",
    "import xarray as xr\n",
    "import os\n",
    "from IPython.display import clear_output\n",
    "from time import sleep\n",
    "import matplotlib.pyplot as plt\n",
    "from matplotlib import animation\n",
    "from IPython.display import HTML\n",
    "from ipywidgets import IntProgress\n",
    "from IPython.display import display\n",
    "import time\n",
    "from ipywidgets import interact, interactive, fixed, interact_manual\n",
    "import ipywidgets as widgets\n",
    "\n",
    "os.environ['TF_CPP_MIN_LOG_LEVEL'] = '3' \n",
    "os.environ['TF_GPU_ALLOCATOR']='cuda_malloc_async'\n",
    "from DLWP.util import load_model, remove_chars, is_channels_last"
   ]
  },
  {
   "cell_type": "code",
   "execution_count": 5,
   "id": "098535fe-10d2-4e19-85ed-f3e877301490",
   "metadata": {},
   "outputs": [
    {
     "name": "stdout",
     "output_type": "stream",
     "text": [
      "Loading forecast file: /scratch/vp91/mah900/NCI-DLWP-CS/Data/forecast_dlwp-cs_NCI_tutorial.nc\n"
     ]
    }
   ],
   "source": [
    "root_directory = f\"/scratch/vp91/{os.environ['USER']}/NCI-DLWP-CS/Data/\"\n",
    "model = os.path.join(root_directory, 'dlwp-cs_NCI_tutorial')\n",
    "forecast_file = os.path.join(root_directory, 'forecast_%s.nc' % remove_chars(model.split(os.sep)[-1]))\n",
    "#print (\"forecast_file:\", forecast_file)\n",
    "print (\"Loading forecast file:\", forecast_file)\n",
    "ds = xr.open_dataset(forecast_file)"
   ]
  },
  {
   "cell_type": "code",
   "execution_count": 6,
   "id": "6df958cc-2207-4f30-93b1-ce432b30d6e7",
   "metadata": {},
   "outputs": [
    {
     "data": {
      "application/vnd.jupyter.widget-view+json": {
       "model_id": "517362d6970a4b9fb5578c4a4aa9aab5",
       "version_major": 2,
       "version_minor": 0
      },
      "text/plain": [
       "IntProgress(value=0, description='Loading:', max=19)"
      ]
     },
     "metadata": {},
     "output_type": "display_data"
    },
    {
     "data": {
      "application/vnd.jupyter.widget-view+json": {
       "model_id": "132d33debd23497e9bfee378be429f32",
       "version_major": 2,
       "version_minor": 0
      },
      "text/plain": [
       "interactive(children=(Dropdown(description='Time', options=('2017-01-01T00', '2017-01-08T00', '2017-01-15T00',…"
      ]
     },
     "metadata": {},
     "output_type": "display_data"
    },
    {
     "data": {
      "text/plain": [
       "<function __main__.interactive_fun(Time)>"
      ]
     },
     "execution_count": 6,
     "metadata": {},
     "output_type": "execute_result"
    }
   ],
   "source": [
    "\n",
    "time_list = list( ds['time'].to_numpy() )\n",
    "time_list = [str(t)[:13] for t in time_list ]\n",
    "\n",
    "fig = plt.figure(figsize=(10,5))\n",
    "fig.tight_layout()\n",
    "ax1 = plt.subplot(1,2,1)   \n",
    "ax2 = plt.subplot(1,2,2)\n",
    "\n",
    "time_select = '2017-01-01T00'\n",
    "\n",
    "\n",
    "title_1 = ax1.set_title( 'z_500 '  +\n",
    "    str(ds ['forecast'].sel(time=time_select)[0][0][\"time\"].to_numpy())[:13]\n",
    "                        + \", Fourcast Hour: \" +\n",
    "                        str(ds ['forecast'].sel(time=time_select)[0][0][\"f_hour\"].to_numpy())\n",
    "                       )\n",
    "title_2 = ax2.set_title( 't2m ' + \n",
    "    str(ds ['forecast'].sel(time=time_select)[0][1][\"time\"].to_numpy())[:13]\n",
    "                        + \", Fourcast Hour: \" +\n",
    "                        str(ds ['forecast'].sel(time=time_select)[0][1][\"f_hour\"].to_numpy())\n",
    "                       )\n",
    "plot_1 = ax1.imshow(ds ['forecast'].sel(time=time_select)[0][0])    \n",
    "plot_2 = ax2.imshow(ds ['forecast'].sel(time=time_select)[0][1])\n",
    "\n",
    "progress = IntProgress(description='Loading:', min=0, max=19) # instantiate the bar\n",
    "\n",
    "\n",
    "def drawframe(n):\n",
    "    #print (time_select)\n",
    "    progress.value = n\n",
    "    plot_1.set_data( ds ['forecast'].sel(time=time_select)[n][0])\n",
    "    plot_2.set_data( ds ['forecast'].sel(time=time_select)[n][1])\n",
    "\n",
    "    title_1.set_text( 'z_500 '  +\n",
    "        str(ds ['forecast'].sel(time=time_select)[n][0][\"time\"].to_numpy())[:13]\n",
    "                      + \", Fourcast Hour: \" +  \n",
    "                     str(ds ['forecast'].sel(time=time_select)[n][0][\"f_hour\"].to_numpy())\n",
    "                    )\n",
    "    title_2.set_text( 't2m ' + \n",
    "        str(ds ['forecast'].sel(time=time_select)[n][1][\"time\"].to_numpy())[:13]\n",
    "                      + \", Fourcast Hour: \" +  \n",
    "                     str(ds ['forecast'].sel(time=time_select)[n][1][\"f_hour\"].to_numpy())\n",
    "                    )\n",
    "    return (plot_1,plot_2)\n",
    "    \n",
    "def interactive_fun(Time):\n",
    "    plt.close()\n",
    "    global time_select\n",
    "    time_select = Time\n",
    "    #print (Time, time_select)\n",
    "    fig.tight_layout()\n",
    "    anim = animation.FuncAnimation(fig, drawframe, frames=20, interval=250, blit=True)\n",
    "    return display(HTML(anim.to_jshtml()))\n",
    "    \n",
    "plt.close()   \n",
    "display(progress)\n",
    "interact(interactive_fun, Time=time_list)"
   ]
  },
  {
   "cell_type": "code",
   "execution_count": null,
   "id": "6f0842d9-f6ff-4d6f-8333-3f1fbfbe95f4",
   "metadata": {},
   "outputs": [],
   "source": []
  }
 ],
 "metadata": {
  "kernelspec": {
   "display_name": "Python 3 (ipykernel)",
   "language": "python",
   "name": "python3"
  },
  "language_info": {
   "codemirror_mode": {
    "name": "ipython",
    "version": 3
   },
   "file_extension": ".py",
   "mimetype": "text/x-python",
   "name": "python",
   "nbconvert_exporter": "python",
   "pygments_lexer": "ipython3",
   "version": "3.10.14"
  }
 },
 "nbformat": 4,
 "nbformat_minor": 5
}
