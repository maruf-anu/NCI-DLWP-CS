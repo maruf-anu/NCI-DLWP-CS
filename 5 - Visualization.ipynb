{
 "cells": [
  {
   "cell_type": "markdown",
   "id": "3c47c0e8-0a26-4012-a379-a75c22220f67",
   "metadata": {},
   "source": [
    "# DLWP-CS Prediction Visualization"
   ]
  },
  {
   "cell_type": "code",
   "execution_count": 1,
   "id": "6b5ce967-5d91-4e30-ad5e-45aa5b23a4d2",
   "metadata": {},
   "outputs": [
    {
     "name": "stderr",
     "output_type": "stream",
     "text": [
      "2024-08-26 16:23:43.283095: I tensorflow/core/util/port.cc:113] oneDNN custom operations are on. You may see slightly different numerical results due to floating-point round-off errors from different computation orders. To turn them off, set the environment variable `TF_ENABLE_ONEDNN_OPTS=0`.\n",
      "2024-08-26 16:23:43.330646: I tensorflow/core/platform/cpu_feature_guard.cc:210] This TensorFlow binary is optimized to use available CPU instructions in performance-critical operations.\n",
      "To enable the following instructions: AVX2 AVX512F AVX512_VNNI FMA, in other operations, rebuild TensorFlow with the appropriate compiler flags.\n",
      "2024-08-26 16:23:44.070351: W tensorflow/compiler/tf2tensorrt/utils/py_utils.cc:38] TF-TRT Warning: Could not find TensorRT\n"
     ]
    }
   ],
   "source": [
    "import ipywidgets as widgets\n",
    "import xarray as xr\n",
    "import os\n",
    "from IPython.display import clear_output\n",
    "from time import sleep\n",
    "import matplotlib.pyplot as plt\n",
    "from matplotlib import animation\n",
    "from IPython.display import HTML\n",
    "from ipywidgets import IntProgress\n",
    "from IPython.display import display\n",
    "import time\n",
    "from ipywidgets import interact, interactive, fixed, interact_manual\n",
    "import ipywidgets as widgets\n",
    "\n",
    "os.environ['TF_CPP_MIN_LOG_LEVEL'] = '3' \n",
    "os.environ['TF_GPU_ALLOCATOR']='cuda_malloc_async'\n",
    "from DLWP.util import load_model, remove_chars, is_channels_last\n",
    "#os.chdir ('/g/data/pp66/data/NCI-DLWP-CS/')\n",
    "os.chdir ('/g/data/dk92/data/NCI-DLWP-CS/')\n",
    "from DLWP.util import  remove_chars "
   ]
  },
  {
   "cell_type": "code",
   "execution_count": 2,
   "id": "098535fe-10d2-4e19-85ed-f3e877301490",
   "metadata": {},
   "outputs": [
    {
     "name": "stdout",
     "output_type": "stream",
     "text": [
      "Loading forecast file: /scratch/vp91/mah900/NCI-DLWP-CS/Data/forecast_dlwp-cs_NCI_tutorial.nc\n"
     ]
    }
   ],
   "source": [
    "root_directory = f\"/scratch/vp91/{os.environ['USER']}/NCI-DLWP-CS/Data/\"\n",
    "# From your selected dir\n",
    "# model = os.path.join(root_directory, 'dlwp-cs_NCI_tutorial')\n",
    "# forecast_file = os.path.join(root_directory, 'forecast_%s.nc' % remove_chars(model.split(os.sep)[-1]))\n",
    "# From dk92\n",
    "#model = '/scratch/vp91/mah900/NCI-DLWP-CS/Data/dlwp-cs_NCI_tutorial'\n",
    "#forecast_file = '/scratch/vp91/mah900/NCI-DLWP-CS/Data/forecast_dlwp-cs_NCI_tutorial.nc'\n",
    "model = '/g/data/dk92/data/NCI-DLWP-CS/Data/dlwp-cs_NCI_tutorial'\n",
    "forecast_file = '/g/data/dk92/data/NCI-DLWP-CS/Data/forecast_dlwp-cs_NCI_tutorial.nc'\n",
    "#print (\"model file:\", model)\n",
    "print (\"Loading forecast file:\", forecast_file)"
   ]
  },
  {
   "cell_type": "code",
   "execution_count": 5,
   "id": "6f0842d9-f6ff-4d6f-8333-3f1fbfbe95f4",
   "metadata": {},
   "outputs": [
    {
     "data": {
      "application/vnd.jupyter.widget-view+json": {
       "model_id": "7a8b4a5d2ac54760bd4d83817ebf40f0",
       "version_major": 2,
       "version_minor": 0
      },
      "text/plain": [
       "IntProgress(value=0, description='Loading:', max=19)"
      ]
     },
     "metadata": {},
     "output_type": "display_data"
    },
    {
     "data": {
      "application/vnd.jupyter.widget-view+json": {
       "model_id": "38d77df8edca4d00b7ac860f0bf51b92",
       "version_major": 2,
       "version_minor": 0
      },
      "text/plain": [
       "interactive(children=(Dropdown(description='Time', options=('2017-01-01T00', '2017-01-08T00', '2017-01-15T00',…"
      ]
     },
     "metadata": {},
     "output_type": "display_data"
    },
    {
     "data": {
      "text/plain": [
       "<function viz_script.interactive_fun(Time)>"
      ]
     },
     "execution_count": 5,
     "metadata": {},
     "output_type": "execute_result"
    }
   ],
   "source": [
    "import viz_script\n",
    "viz_script.ds = xr.open_dataset(forecast_file)\n",
    "viz_script.time_list = viz_script.get_time_list()\n",
    "viz_script.title_1, viz_script.title_2 = viz_script.get_title()\n",
    "viz_script.plot_1, viz_script.plot_2   = viz_script.get_plot()\n",
    "\n",
    "viz_script.plt.close()   \n",
    "display(viz_script.progress)\n",
    "interact(viz_script.interactive_fun, Time=viz_script.time_list)"
   ]
  },
  {
   "cell_type": "code",
   "execution_count": null,
   "id": "ec09652c-b3c1-4134-95c5-3e208ec1b9b4",
   "metadata": {},
   "outputs": [],
   "source": []
  }
 ],
 "metadata": {
  "kernelspec": {
   "display_name": "Python 3 (ipykernel)",
   "language": "python",
   "name": "python3"
  },
  "language_info": {
   "codemirror_mode": {
    "name": "ipython",
    "version": 3
   },
   "file_extension": ".py",
   "mimetype": "text/x-python",
   "name": "python",
   "nbconvert_exporter": "python",
   "pygments_lexer": "ipython3",
   "version": "3.10.14"
  }
 },
 "nbformat": 4,
 "nbformat_minor": 5
}
